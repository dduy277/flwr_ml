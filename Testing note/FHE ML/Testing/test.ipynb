{
 "cells": [
  {
   "cell_type": "code",
   "execution_count": 14,
   "metadata": {},
   "outputs": [
    {
     "ename": "ModuleNotFoundError",
     "evalue": "No module named 'openfhe.openfhe'",
     "output_type": "error",
     "traceback": [
      "\u001b[0;31m---------------------------------------------------------------------------\u001b[0m",
      "\u001b[0;31mModuleNotFoundError\u001b[0m                       Traceback (most recent call last)",
      "Cell \u001b[0;32mIn[14], line 3\u001b[0m\n\u001b[1;32m      1\u001b[0m \u001b[38;5;28;01mfrom\u001b[39;00m \u001b[38;5;21;01mctypes\u001b[39;00m \u001b[38;5;28;01mimport\u001b[39;00m cdll\n\u001b[1;32m      2\u001b[0m \u001b[38;5;66;03m# openfhe = cdll.LoadLibrary(\"//home/zuy/OpenFHE/openfhe-python/build/lib/openfhe.cpython-312-x86_64-linux-gnu.so\")\u001b[39;00m\n\u001b[0;32m----> 3\u001b[0m \u001b[38;5;28;01mfrom\u001b[39;00m \u001b[38;5;21;01mopenfhe\u001b[39;00m \u001b[38;5;28;01mimport\u001b[39;00m \u001b[38;5;241m*\u001b[39m\n",
      "File \u001b[0;32m~/OpenFHE/openfhe-python/openfhe/__init__.py:1\u001b[0m\n\u001b[0;32m----> 1\u001b[0m \u001b[38;5;28;01mfrom\u001b[39;00m \u001b[38;5;21;01mopenfhe\u001b[39;00m\u001b[38;5;21;01m.\u001b[39;00m\u001b[38;5;21;01mopenfhe\u001b[39;00m \u001b[38;5;28;01mimport\u001b[39;00m \u001b[38;5;241m*\u001b[39m\n",
      "\u001b[0;31mModuleNotFoundError\u001b[0m: No module named 'openfhe.openfhe'"
     ]
    }
   ],
   "source": [
    "from ctypes import cdll\n",
    "# openfhe = cdll.LoadLibrary(\"//home/zuy/OpenFHE/openfhe-python/build/lib/openfhe.cpython-312-x86_64-linux-gnu.so\")\n",
    "from openfhe import *"
   ]
  },
  {
   "cell_type": "code",
   "execution_count": 4,
   "metadata": {},
   "outputs": [
    {
     "ename": "NameError",
     "evalue": "name 'CCParamsCKKSRNS' is not defined",
     "output_type": "error",
     "traceback": [
      "\u001b[0;31m---------------------------------------------------------------------------\u001b[0m",
      "\u001b[0;31mNameError\u001b[0m                                 Traceback (most recent call last)",
      "Cell \u001b[0;32mIn[4], line 5\u001b[0m\n\u001b[1;32m      2\u001b[0m scale_mod_size \u001b[38;5;241m=\u001b[39m \u001b[38;5;241m50\u001b[39m\n\u001b[1;32m      3\u001b[0m batch_size \u001b[38;5;241m=\u001b[39m \u001b[38;5;241m8\u001b[39m\n\u001b[0;32m----> 5\u001b[0m parameters \u001b[38;5;241m=\u001b[39m \u001b[43mCCParamsCKKSRNS\u001b[49m()\n\u001b[1;32m      6\u001b[0m parameters\u001b[38;5;241m.\u001b[39mSetMultiplicativeDepth(mult_depth)\n\u001b[1;32m      7\u001b[0m parameters\u001b[38;5;241m.\u001b[39mSetScalingModSize(scale_mod_size)\n",
      "\u001b[0;31mNameError\u001b[0m: name 'CCParamsCKKSRNS' is not defined"
     ]
    }
   ],
   "source": [
    "mult_depth = 1\n",
    "scale_mod_size = 50\n",
    "batch_size = 8\n",
    "\n",
    "parameters = CCParamsCKKSRNS()\n",
    "parameters.SetMultiplicativeDepth(mult_depth)\n",
    "parameters.SetScalingModSize(scale_mod_size)\n",
    "parameters.SetBatchSize(batch_size)\n",
    "\n",
    "cc = GenCryptoContext(parameters)\n",
    "cc.Enable(PKESchemeFeature.PKE)\n",
    "cc.Enable(PKESchemeFeature.KEYSWITCH)\n",
    "cc.Enable(PKESchemeFeature.LEVELEDSHE)\n",
    "\n",
    "print(\"The CKKS scheme is using ring dimension: \" + str(cc.GetRingDimension()))"
   ]
  },
  {
   "cell_type": "code",
   "execution_count": 3,
   "metadata": {},
   "outputs": [
    {
     "name": "stdout",
     "output_type": "stream",
     "text": [
      "Input x1: (0.25, 0.5, 0.75, 1, 2, 3, 4, 5,  ... ); Estimated precision: 50 bits\n",
      "\n",
      "Input x2: (5, 4, 3, 2, 1, 0.75, 0.5, 0.25,  ... ); Estimated precision: 50 bits\n",
      "\n"
     ]
    }
   ],
   "source": [
    "keys = cc.KeyGen()\n",
    "cc.EvalMultKeyGen(keys.secretKey)\n",
    "cc.EvalRotateKeyGen(keys.secretKey, [1, -2])\n",
    "\n",
    "x1 = [0.25, 0.5, 0.75, 1.0, 2.0, 3.0, 4.0, 5.0]\n",
    "x2 = [5.0, 4.0, 3.0, 2.0, 1.0, 0.75, 0.5, 0.25]\n",
    "\n",
    "ptx1 = cc.MakeCKKSPackedPlaintext(x1)\n",
    "ptx2 = cc.MakeCKKSPackedPlaintext(x2)\n",
    "\n",
    "print(\"Input x1: \" + str(ptx1))\n",
    "print(\"Input x2: \" + str(ptx2))"
   ]
  },
  {
   "cell_type": "code",
   "execution_count": 4,
   "metadata": {},
   "outputs": [],
   "source": [
    "# Encrypt the encoded vectors\n",
    "c1 = cc.Encrypt(keys.publicKey, ptx1)\n",
    "c2 = cc.Encrypt(keys.publicKey, ptx2)"
   ]
  },
  {
   "cell_type": "code",
   "execution_count": 5,
   "metadata": {},
   "outputs": [],
   "source": [
    "# Step 4: Evaluation\n",
    "# Homomorphic additions\n",
    "c_add = cc.EvalAdd(c1, c2)\n",
    "# Homomorphic subtraction\n",
    "c_sub = cc.EvalSub(c1, c2)\n",
    "# Homomorphic scalar multiplication\n",
    "c_scalar = cc.EvalMult(c1, 4)\n",
    "# Homomorphic multiplication\n",
    "c_mult = cc.EvalMult(c1, c2)\n",
    "# Homomorphic rotations\n",
    "c_rot1 = cc.EvalRotate(c1, 1)\n",
    "c_rot2 = cc.EvalRotate(c1, -2)"
   ]
  },
  {
   "cell_type": "code",
   "execution_count": 7,
   "metadata": {},
   "outputs": [
    {
     "name": "stdout",
     "output_type": "stream",
     "text": [
      "\n",
      "Results of homomorphic additions: \n",
      "(5.25, 4.5, 3.75, 3, 3, 3.75, 4.5, 5.25,  ... ); Estimated precision: 43 bits\n",
      "\n"
     ]
    }
   ],
   "source": [
    "# Step 5: Decryption and output\n",
    "# Decrypt the result of additions\n",
    "ptAdd = cc.Decrypt(c_add, keys.secretKey)\n",
    "print(\"\\nResults of homomorphic additions: \")\n",
    "print(ptAdd)"
   ]
  },
  {
   "cell_type": "code",
   "execution_count": 8,
   "metadata": {},
   "outputs": [
    {
     "name": "stdout",
     "output_type": "stream",
     "text": [
      "\n",
      "Results of homomorphic computations:\n",
      "x1 = (0.25, 0.5, 0.75, 1, 2, 3, 4, 5, ... ); Estimated precision: 43 bits\n",
      "4 * x1 = (1, 2, 3, 4, 8, 12, 16, 20, ... ); Estimated precision: 41 bits\n",
      "x1 * x2 = (1.25, 2, 2.25, 2, 2, 2.25, 2, 1.25, ... ); Estimated precision: 41 bits\n",
      "\n",
      "In rotations, very small outputs (~10^-10 here) correspond to 0's:\n",
      "x1 rotated by 1 = (0.5, 0.75, 1, 2, 3, 4, 5, 0.25, ... ); Estimated precision: 43 bits\n",
      "x1 rotated by -2 = (4, 5, 0.25, 0.5, 0.75, 1, 2, 3, ... ); Estimated precision: 43 bits\n"
     ]
    }
   ],
   "source": [
    "# We set the precision to 8 decimal digits for a nicer output.\n",
    "# If you want to see the error/noise introduced by CKKS, bump it up\n",
    "# to 15 and it should become visible.\n",
    "\n",
    "precision = 8\n",
    "print(\"\\nResults of homomorphic computations:\")\n",
    "result = cc.Decrypt(c1, keys.secretKey)\n",
    "result.SetLength(batch_size)\n",
    "print(\"x1 = \" + result.GetFormattedValues(precision))\n",
    "\n",
    "# Decrypt the result of scalar multiplication\n",
    "result = cc.Decrypt(c_scalar, keys.secretKey)\n",
    "result.SetLength(batch_size)\n",
    "print(\"4 * x1 = \" + result.GetFormattedValues(precision))\n",
    "\n",
    "# Decrypt the result of multiplication\n",
    "result = cc.Decrypt(c_mult, keys.secretKey)\n",
    "result.SetLength(batch_size)\n",
    "print(\"x1 * x2 = \" + result.GetFormattedValues(precision))\n",
    "\n",
    "# Decrypt the result of rotations\n",
    "result = cc.Decrypt(c_rot1, keys.secretKey)\n",
    "result.SetLength(batch_size)\n",
    "print(\"\\nIn rotations, very small outputs (~10^-10 here) correspond to 0's:\")\n",
    "print(\"x1 rotated by 1 = \" + result.GetFormattedValues(precision))\n",
    "\n",
    "result = cc.Decrypt(c_rot2, keys.secretKey)\n",
    "result.SetLength(batch_size)\n",
    "print(\"x1 rotated by -2 = \" + result.GetFormattedValues(precision))"
   ]
  }
 ],
 "metadata": {
  "kernelspec": {
   "display_name": "flower_tutorial",
   "language": "python",
   "name": "python3"
  },
  "language_info": {
   "codemirror_mode": {
    "name": "ipython",
    "version": 3
   },
   "file_extension": ".py",
   "mimetype": "text/x-python",
   "name": "python",
   "nbconvert_exporter": "python",
   "pygments_lexer": "ipython3",
   "version": "3.11.11"
  }
 },
 "nbformat": 4,
 "nbformat_minor": 2
}
