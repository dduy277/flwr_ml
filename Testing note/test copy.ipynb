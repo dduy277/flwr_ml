{
 "cells": [
  {
   "cell_type": "code",
   "execution_count": 1,
   "metadata": {},
   "outputs": [
    {
     "name": "stderr",
     "output_type": "stream",
     "text": [
      "/home/zuy/anaconda3/envs/flower_tutorial/lib/python3.11/site-packages/tqdm/auto.py:21: TqdmWarning: IProgress not found. Please update jupyter and ipywidgets. See https://ipywidgets.readthedocs.io/en/stable/user_install.html\n",
      "  from .autonotebook import tqdm as notebook_tqdm\n",
      "2025-03-22 10:20:34,714\tINFO util.py:154 -- Missing packages: ['ipywidgets']. Run `pip install -U ipywidgets`, then restart the notebook server for rich notebook output.\n"
     ]
    }
   ],
   "source": [
    "import numpy as np\n",
    "import pandas as pd\n",
    "from flwr_datasets import FederatedDataset\n",
    "from flwr_datasets.partitioner import IidPartitioner\n",
    "from sklearn.linear_model import LogisticRegression\n",
    "from sklearn.tree import DecisionTreeClassifier\n",
    "from sklearn.model_selection import train_test_split\n",
    "from datasets import Dataset, load_dataset\n",
    "from numpy import genfromtxt\n",
    "from logging import INFO\n",
    "import xgboost as xgb\n",
    "from flwr.common import log\n",
    "from flwr_datasets import FederatedDataset\n",
    "from flwr_datasets.partitioner import IidPartitioner\n",
    "from pandas import concat"
   ]
  },
  {
   "cell_type": "code",
   "execution_count": null,
   "metadata": {},
   "outputs": [],
   "source": [
    "df = pd.read_csv('/home/zuy/Documents/BCU/ML/CSV/df_train_3.csv')\n",
    "    df.drop(\"Unnamed: 0\", axis=1, inplace=True)"
   ]
  },
  {
   "cell_type": "code",
   "execution_count": 5,
   "metadata": {},
   "outputs": [
    {
     "data": {
      "text/plain": [
       "(227845, 18)"
      ]
     },
     "execution_count": 5,
     "metadata": {},
     "output_type": "execute_result"
    }
   ],
   "source": [
    "df.shape"
   ]
  },
  {
   "cell_type": "code",
   "execution_count": 38,
   "metadata": {},
   "outputs": [
    {
     "data": {
      "text/plain": [
       "Class\n",
       "0    284315\n",
       "1       492\n",
       "Name: count, dtype: int64"
      ]
     },
     "execution_count": 38,
     "metadata": {},
     "output_type": "execute_result"
    }
   ],
   "source": [
    "df.Class.value_counts()"
   ]
  },
  {
   "cell_type": "code",
   "execution_count": 7,
   "metadata": {},
   "outputs": [
    {
     "name": "stderr",
     "output_type": "stream",
     "text": [
      "Generating train split: 100%|██████████| 10500000/10500000 [00:28<00:00, 364481.00 examples/s]\n",
      "Generating test split: 100%|██████████| 500000/500000 [00:01<00:00, 440781.97 examples/s]\n",
      "Generating test_20k split: 100%|██████████| 19610/19610 [00:00<00:00, 433496.37 examples/s]\n",
      "Generating train_100k split: 100%|██████████| 100000/100000 [00:00<00:00, 434199.25 examples/s]\n",
      "Generating train_10k split: 100%|██████████| 10000/10000 [00:00<00:00, 410823.64 examples/s]\n",
      "Generating train_1k split: 100%|██████████| 1000/1000 [00:00<00:00, 237866.73 examples/s]\n",
      "Generating train_63k split: 100%|██████████| 62751/62751 [00:00<00:00, 527144.19 examples/s]\n",
      "Generating train_68k split: 100%|██████████| 62751/62751 [00:00<00:00, 417341.40 examples/s]\n",
      "Generating val_16k split: 100%|██████████| 15688/15688 [00:00<00:00, 407005.93 examples/s]\n"
     ]
    }
   ],
   "source": [
    "\"\"\"Load partition HIGGS data.\"\"\"\n",
    "# Only initialize `FederatedDataset` once\n",
    "fds = None  # Cache FederatedDataset\n",
    "if fds is None:\n",
    "    partitioner = IidPartitioner(num_partitions=1)\n",
    "    fds = FederatedDataset(\n",
    "        dataset=\"jxie/higgs\",\n",
    "        partitioners={\"train\": partitioner},\n",
    "    )\n",
    "    partition = fds.load_partition(0, split=\"train\")\n",
    "    partition.set_format(\"numpy\")"
   ]
  },
  {
   "cell_type": "code",
   "execution_count": null,
   "metadata": {},
   "outputs": [],
   "source": [
    "\"\"\"Load partition HIGGS data.\"\"\"\n",
    "# Only initialize `FederatedDataset` once\n",
    "fds = None  # Cache FederatedDataset\n",
    "if fds is None:\n",
    "    partitioner = IidPartitioner(num_partitions=1)\n",
    "    fds = FederatedDataset(\n",
    "        dataset=\"ylecun/mnist\",\n",
    "        partitioners={\"train\": partitioner},\n",
    "    )\n",
    "    \n",
    "# Load the partition for this `partition_id`\n",
    "partition = fds.load_partition(0, split=\"train\").set_format(\"numpy\")\n",
    "# Train/test splitting\n",
    "train_data, valid_data, num_train, num_val = train_test_num_split(partition, test_fraction=0.2, seed=42)"
   ]
  },
  {
   "cell_type": "code",
   "execution_count": null,
   "metadata": {},
   "outputs": [],
   "source": [
    "\"\"\"Load partition df_3 data.\"\"\"\n",
    "df = pd.read_csv('/home/zuy/Documents/BCU/ML/CSV/df_3.csv')\n",
    "df.drop(\"Unnamed: 0\", axis=1, inplace=True)\n",
    "dataset = Dataset.from_pandas(df)\n",
    "partitioner = IidPartitioner(num_partitions=1)\n",
    "partitioner.dataset = dataset\n",
    "dataset = partitioner.load_partition(partition_id=0).to_pandas()\n",
    "\n",
    "X = dataset.drop('Class', axis=1)\n",
    "y = dataset['Class']\n",
    "# new_data = xgb.DMatrix(X, label=y)\n",
    "X_train, X_test, y_train, y_test = train_test_split(X, y, train_size=0.2, random_state=42, stratify=y)\n",
    "partition_train = pd.concat([X_train, X_test])\n",
    "partition_test = pd.concat([y_train, y_test])\n",
    "num_train = len(partition_train)\n",
    "num_test = len(partition_test)\n"
   ]
  },
  {
   "cell_type": "code",
   "execution_count": 2,
   "metadata": {},
   "outputs": [],
   "source": [
    "import numpy as np\n",
    "import torch\n",
    "import torch.nn as nn\n",
    "import torch.nn.functional as F\n",
    "import math\n",
    "import pandas as pd\n",
    "from sklearn.preprocessing import MinMaxScaler"
   ]
  },
  {
   "cell_type": "code",
   "execution_count": 3,
   "metadata": {},
   "outputs": [],
   "source": [
    "df = pd.read_csv('/home/zuy/Documents/BCU/ML/CSV/df_train_3.csv')\n",
    "df.drop(\"Unnamed: 0\", axis=1, inplace=True)"
   ]
  },
  {
   "cell_type": "code",
   "execution_count": 4,
   "metadata": {},
   "outputs": [
    {
     "data": {
      "text/html": [
       "<div>\n",
       "<style scoped>\n",
       "    .dataframe tbody tr th:only-of-type {\n",
       "        vertical-align: middle;\n",
       "    }\n",
       "\n",
       "    .dataframe tbody tr th {\n",
       "        vertical-align: top;\n",
       "    }\n",
       "\n",
       "    .dataframe thead th {\n",
       "        text-align: right;\n",
       "    }\n",
       "</style>\n",
       "<table border=\"1\" class=\"dataframe\">\n",
       "  <thead>\n",
       "    <tr style=\"text-align: right;\">\n",
       "      <th></th>\n",
       "      <th>Time</th>\n",
       "      <th>V1</th>\n",
       "      <th>V2</th>\n",
       "      <th>V3</th>\n",
       "      <th>V4</th>\n",
       "      <th>V5</th>\n",
       "      <th>V6</th>\n",
       "      <th>V7</th>\n",
       "      <th>V8</th>\n",
       "      <th>V9</th>\n",
       "      <th>V10</th>\n",
       "      <th>V11</th>\n",
       "      <th>V12</th>\n",
       "      <th>V13</th>\n",
       "      <th>V14</th>\n",
       "      <th>Amount</th>\n",
       "      <th>Class</th>\n",
       "    </tr>\n",
       "  </thead>\n",
       "  <tbody>\n",
       "    <tr>\n",
       "      <th>0</th>\n",
       "      <td>0.905774</td>\n",
       "      <td>0.862468</td>\n",
       "      <td>-0.582668</td>\n",
       "      <td>-0.800214</td>\n",
       "      <td>-0.402839</td>\n",
       "      <td>1.195050</td>\n",
       "      <td>3.686711</td>\n",
       "      <td>-1.352372</td>\n",
       "      <td>2.084633</td>\n",
       "      <td>1.176746</td>\n",
       "      <td>-0.064710</td>\n",
       "      <td>-0.054899</td>\n",
       "      <td>0.360069</td>\n",
       "      <td>0.057693</td>\n",
       "      <td>-0.126514</td>\n",
       "      <td>-0.204315</td>\n",
       "      <td>0.0</td>\n",
       "    </tr>\n",
       "    <tr>\n",
       "      <th>1</th>\n",
       "      <td>0.465984</td>\n",
       "      <td>0.902013</td>\n",
       "      <td>-0.081009</td>\n",
       "      <td>-1.688308</td>\n",
       "      <td>0.169440</td>\n",
       "      <td>2.300397</td>\n",
       "      <td>3.063923</td>\n",
       "      <td>-0.037911</td>\n",
       "      <td>1.216367</td>\n",
       "      <td>0.077896</td>\n",
       "      <td>0.381968</td>\n",
       "      <td>-0.149059</td>\n",
       "      <td>0.179281</td>\n",
       "      <td>-0.298349</td>\n",
       "      <td>0.731565</td>\n",
       "      <td>-0.264579</td>\n",
       "      <td>0.0</td>\n",
       "    </tr>\n",
       "  </tbody>\n",
       "</table>\n",
       "</div>"
      ],
      "text/plain": [
       "       Time        V1        V2        V3        V4        V5        V6  \\\n",
       "0  0.905774  0.862468 -0.582668 -0.800214 -0.402839  1.195050  3.686711   \n",
       "1  0.465984  0.902013 -0.081009 -1.688308  0.169440  2.300397  3.063923   \n",
       "\n",
       "         V7        V8        V9       V10       V11       V12       V13  \\\n",
       "0 -1.352372  2.084633  1.176746 -0.064710 -0.054899  0.360069  0.057693   \n",
       "1 -0.037911  1.216367  0.077896  0.381968 -0.149059  0.179281 -0.298349   \n",
       "\n",
       "        V14    Amount  Class  \n",
       "0 -0.126514 -0.204315    0.0  \n",
       "1  0.731565 -0.264579    0.0  "
      ]
     },
     "execution_count": 4,
     "metadata": {},
     "output_type": "execute_result"
    }
   ],
   "source": [
    "df.head(2)"
   ]
  },
  {
   "cell_type": "code",
   "execution_count": 5,
   "metadata": {},
   "outputs": [],
   "source": [
    "df_new = MinMaxScaler(feature_range=(0, 1)).fit_transform(df)\n",
    "df_new = pd.DataFrame(df_new, columns=[\n",
    "'Time','V1','V2','V3','V4','V5','V6','V7','V8','V9','V10','V11','V12','V13','V14','Amount','Class'])"
   ]
  },
  {
   "cell_type": "code",
   "execution_count": 6,
   "metadata": {},
   "outputs": [
    {
     "data": {
      "text/html": [
       "<div>\n",
       "<style scoped>\n",
       "    .dataframe tbody tr th:only-of-type {\n",
       "        vertical-align: middle;\n",
       "    }\n",
       "\n",
       "    .dataframe tbody tr th {\n",
       "        vertical-align: top;\n",
       "    }\n",
       "\n",
       "    .dataframe thead th {\n",
       "        text-align: right;\n",
       "    }\n",
       "</style>\n",
       "<table border=\"1\" class=\"dataframe\">\n",
       "  <thead>\n",
       "    <tr style=\"text-align: right;\">\n",
       "      <th></th>\n",
       "      <th>Time</th>\n",
       "      <th>V1</th>\n",
       "      <th>V2</th>\n",
       "      <th>V3</th>\n",
       "      <th>V4</th>\n",
       "      <th>V5</th>\n",
       "      <th>V6</th>\n",
       "      <th>V7</th>\n",
       "      <th>V8</th>\n",
       "      <th>V9</th>\n",
       "      <th>V10</th>\n",
       "      <th>V11</th>\n",
       "      <th>V12</th>\n",
       "      <th>V13</th>\n",
       "      <th>V14</th>\n",
       "      <th>Amount</th>\n",
       "      <th>Class</th>\n",
       "    </tr>\n",
       "  </thead>\n",
       "  <tbody>\n",
       "    <tr>\n",
       "      <th>0</th>\n",
       "      <td>0.937075</td>\n",
       "      <td>0.991418</td>\n",
       "      <td>0.759318</td>\n",
       "      <td>0.813931</td>\n",
       "      <td>0.222601</td>\n",
       "      <td>0.775833</td>\n",
       "      <td>0.303487</td>\n",
       "      <td>0.256341</td>\n",
       "      <td>0.797613</td>\n",
       "      <td>0.511242</td>\n",
       "      <td>0.505465</td>\n",
       "      <td>0.278523</td>\n",
       "      <td>0.723425</td>\n",
       "      <td>0.453073</td>\n",
       "      <td>0.643815</td>\n",
       "      <td>0.000285</td>\n",
       "      <td>0.0</td>\n",
       "    </tr>\n",
       "    <tr>\n",
       "      <th>1</th>\n",
       "      <td>0.720386</td>\n",
       "      <td>0.992920</td>\n",
       "      <td>0.766743</td>\n",
       "      <td>0.784411</td>\n",
       "      <td>0.262921</td>\n",
       "      <td>0.785532</td>\n",
       "      <td>0.296185</td>\n",
       "      <td>0.265342</td>\n",
       "      <td>0.792624</td>\n",
       "      <td>0.464359</td>\n",
       "      <td>0.514616</td>\n",
       "      <td>0.270128</td>\n",
       "      <td>0.716463</td>\n",
       "      <td>0.416956</td>\n",
       "      <td>0.670298</td>\n",
       "      <td>0.000116</td>\n",
       "      <td>0.0</td>\n",
       "    </tr>\n",
       "  </tbody>\n",
       "</table>\n",
       "</div>"
      ],
      "text/plain": [
       "       Time        V1        V2        V3        V4        V5        V6  \\\n",
       "0  0.937075  0.991418  0.759318  0.813931  0.222601  0.775833  0.303487   \n",
       "1  0.720386  0.992920  0.766743  0.784411  0.262921  0.785532  0.296185   \n",
       "\n",
       "         V7        V8        V9       V10       V11       V12       V13  \\\n",
       "0  0.256341  0.797613  0.511242  0.505465  0.278523  0.723425  0.453073   \n",
       "1  0.265342  0.792624  0.464359  0.514616  0.270128  0.716463  0.416956   \n",
       "\n",
       "        V14    Amount  Class  \n",
       "0  0.643815  0.000285    0.0  \n",
       "1  0.670298  0.000116    0.0  "
      ]
     },
     "execution_count": 6,
     "metadata": {},
     "output_type": "execute_result"
    }
   ],
   "source": [
    "df_new.head(2)"
   ]
  },
  {
   "cell_type": "code",
   "execution_count": 7,
   "metadata": {},
   "outputs": [
    {
     "data": {
      "text/plain": [
       "array([0., 1.])"
      ]
     },
     "execution_count": 7,
     "metadata": {},
     "output_type": "execute_result"
    }
   ],
   "source": [
    "df_new['Class'].unique()"
   ]
  },
  {
   "cell_type": "code",
   "execution_count": 8,
   "metadata": {},
   "outputs": [
    {
     "data": {
      "text/html": [
       "<div>\n",
       "<style scoped>\n",
       "    .dataframe tbody tr th:only-of-type {\n",
       "        vertical-align: middle;\n",
       "    }\n",
       "\n",
       "    .dataframe tbody tr th {\n",
       "        vertical-align: top;\n",
       "    }\n",
       "\n",
       "    .dataframe thead th {\n",
       "        text-align: right;\n",
       "    }\n",
       "</style>\n",
       "<table border=\"1\" class=\"dataframe\">\n",
       "  <thead>\n",
       "    <tr style=\"text-align: right;\">\n",
       "      <th></th>\n",
       "      <th>Time</th>\n",
       "      <th>V1</th>\n",
       "      <th>V2</th>\n",
       "      <th>V3</th>\n",
       "      <th>V4</th>\n",
       "      <th>V5</th>\n",
       "      <th>V6</th>\n",
       "      <th>V7</th>\n",
       "      <th>V8</th>\n",
       "      <th>V9</th>\n",
       "      <th>V10</th>\n",
       "      <th>V11</th>\n",
       "      <th>V12</th>\n",
       "      <th>V13</th>\n",
       "      <th>V14</th>\n",
       "      <th>Amount</th>\n",
       "    </tr>\n",
       "  </thead>\n",
       "  <tbody>\n",
       "    <tr>\n",
       "      <th>0</th>\n",
       "      <td>18741.492662</td>\n",
       "      <td>19828.356443</td>\n",
       "      <td>15186.362165</td>\n",
       "      <td>16278.623253</td>\n",
       "      <td>4452.014003</td>\n",
       "      <td>15516.664968</td>\n",
       "      <td>6069.734946</td>\n",
       "      <td>5126.825088</td>\n",
       "      <td>15952.256295</td>\n",
       "      <td>10224.846798</td>\n",
       "      <td>10109.307540</td>\n",
       "      <td>5570.452646</td>\n",
       "      <td>14468.502119</td>\n",
       "      <td>9061.453421</td>\n",
       "      <td>12876.306388</td>\n",
       "      <td>5.698458</td>\n",
       "    </tr>\n",
       "    <tr>\n",
       "      <th>1</th>\n",
       "      <td>14407.727210</td>\n",
       "      <td>19858.394983</td>\n",
       "      <td>15334.852160</td>\n",
       "      <td>15688.216530</td>\n",
       "      <td>5258.427845</td>\n",
       "      <td>15710.635174</td>\n",
       "      <td>5923.702380</td>\n",
       "      <td>5306.843169</td>\n",
       "      <td>15852.475389</td>\n",
       "      <td>9287.170578</td>\n",
       "      <td>10292.314406</td>\n",
       "      <td>5402.552065</td>\n",
       "      <td>14329.261237</td>\n",
       "      <td>8339.117567</td>\n",
       "      <td>13405.959811</td>\n",
       "      <td>2.327649</td>\n",
       "    </tr>\n",
       "  </tbody>\n",
       "</table>\n",
       "</div>"
      ],
      "text/plain": [
       "           Time            V1            V2            V3           V4  \\\n",
       "0  18741.492662  19828.356443  15186.362165  16278.623253  4452.014003   \n",
       "1  14407.727210  19858.394983  15334.852160  15688.216530  5258.427845   \n",
       "\n",
       "             V5           V6           V7            V8            V9  \\\n",
       "0  15516.664968  6069.734946  5126.825088  15952.256295  10224.846798   \n",
       "1  15710.635174  5923.702380  5306.843169  15852.475389   9287.170578   \n",
       "\n",
       "            V10          V11           V12          V13           V14  \\\n",
       "0  10109.307540  5570.452646  14468.502119  9061.453421  12876.306388   \n",
       "1  10292.314406  5402.552065  14329.261237  8339.117567  13405.959811   \n",
       "\n",
       "     Amount  \n",
       "0  5.698458  \n",
       "1  2.327649  "
      ]
     },
     "execution_count": 8,
     "metadata": {},
     "output_type": "execute_result"
    }
   ],
   "source": [
    "temp_class = df_new['Class']\n",
    "temp_df = df_new.drop('Class', axis=1)\n",
    "temp_df = temp_df * 20000\n",
    "temp_df.head(2)\n"
   ]
  },
  {
   "cell_type": "code",
   "execution_count": 9,
   "metadata": {},
   "outputs": [
    {
     "data": {
      "text/html": [
       "<div>\n",
       "<style scoped>\n",
       "    .dataframe tbody tr th:only-of-type {\n",
       "        vertical-align: middle;\n",
       "    }\n",
       "\n",
       "    .dataframe tbody tr th {\n",
       "        vertical-align: top;\n",
       "    }\n",
       "\n",
       "    .dataframe thead th {\n",
       "        text-align: right;\n",
       "    }\n",
       "</style>\n",
       "<table border=\"1\" class=\"dataframe\">\n",
       "  <thead>\n",
       "    <tr style=\"text-align: right;\">\n",
       "      <th></th>\n",
       "      <th>Time</th>\n",
       "      <th>V1</th>\n",
       "      <th>V2</th>\n",
       "      <th>V3</th>\n",
       "      <th>V4</th>\n",
       "      <th>V5</th>\n",
       "      <th>V6</th>\n",
       "      <th>V7</th>\n",
       "      <th>V8</th>\n",
       "      <th>V9</th>\n",
       "      <th>V10</th>\n",
       "      <th>V11</th>\n",
       "      <th>V12</th>\n",
       "      <th>V13</th>\n",
       "      <th>V14</th>\n",
       "      <th>Amount</th>\n",
       "      <th>Class</th>\n",
       "    </tr>\n",
       "  </thead>\n",
       "  <tbody>\n",
       "    <tr>\n",
       "      <th>0</th>\n",
       "      <td>18741.492662</td>\n",
       "      <td>19828.356443</td>\n",
       "      <td>15186.362165</td>\n",
       "      <td>16278.623253</td>\n",
       "      <td>4452.014003</td>\n",
       "      <td>15516.664968</td>\n",
       "      <td>6069.734946</td>\n",
       "      <td>5126.825088</td>\n",
       "      <td>15952.256295</td>\n",
       "      <td>10224.846798</td>\n",
       "      <td>10109.307540</td>\n",
       "      <td>5570.452646</td>\n",
       "      <td>14468.502119</td>\n",
       "      <td>9061.453421</td>\n",
       "      <td>12876.306388</td>\n",
       "      <td>5.698458</td>\n",
       "      <td>0.0</td>\n",
       "    </tr>\n",
       "    <tr>\n",
       "      <th>1</th>\n",
       "      <td>14407.727210</td>\n",
       "      <td>19858.394983</td>\n",
       "      <td>15334.852160</td>\n",
       "      <td>15688.216530</td>\n",
       "      <td>5258.427845</td>\n",
       "      <td>15710.635174</td>\n",
       "      <td>5923.702380</td>\n",
       "      <td>5306.843169</td>\n",
       "      <td>15852.475389</td>\n",
       "      <td>9287.170578</td>\n",
       "      <td>10292.314406</td>\n",
       "      <td>5402.552065</td>\n",
       "      <td>14329.261237</td>\n",
       "      <td>8339.117567</td>\n",
       "      <td>13405.959811</td>\n",
       "      <td>2.327649</td>\n",
       "      <td>0.0</td>\n",
       "    </tr>\n",
       "  </tbody>\n",
       "</table>\n",
       "</div>"
      ],
      "text/plain": [
       "           Time            V1            V2            V3           V4  \\\n",
       "0  18741.492662  19828.356443  15186.362165  16278.623253  4452.014003   \n",
       "1  14407.727210  19858.394983  15334.852160  15688.216530  5258.427845   \n",
       "\n",
       "             V5           V6           V7            V8            V9  \\\n",
       "0  15516.664968  6069.734946  5126.825088  15952.256295  10224.846798   \n",
       "1  15710.635174  5923.702380  5306.843169  15852.475389   9287.170578   \n",
       "\n",
       "            V10          V11           V12          V13           V14  \\\n",
       "0  10109.307540  5570.452646  14468.502119  9061.453421  12876.306388   \n",
       "1  10292.314406  5402.552065  14329.261237  8339.117567  13405.959811   \n",
       "\n",
       "     Amount  Class  \n",
       "0  5.698458    0.0  \n",
       "1  2.327649    0.0  "
      ]
     },
     "execution_count": 9,
     "metadata": {},
     "output_type": "execute_result"
    }
   ],
   "source": [
    "temp_class = pd.DataFrame(temp_class, columns=[\"Class\"])\n",
    "temp_df2 = pd.concat([temp_df, temp_class], axis=1)\n",
    "temp_df2.head(2)"
   ]
  },
  {
   "cell_type": "code",
   "execution_count": 10,
   "metadata": {},
   "outputs": [
    {
     "data": {
      "text/plain": [
       "Time      20000.0\n",
       "V1        20000.0\n",
       "V2        20000.0\n",
       "V3        20000.0\n",
       "V4        20000.0\n",
       "V5        20000.0\n",
       "V6        20000.0\n",
       "V7        20000.0\n",
       "V8        20000.0\n",
       "V9        20000.0\n",
       "V10       20000.0\n",
       "V11       20000.0\n",
       "V12       20000.0\n",
       "V13       20000.0\n",
       "V14       20000.0\n",
       "Amount    20000.0\n",
       "Class         1.0\n",
       "dtype: float64"
      ]
     },
     "execution_count": 10,
     "metadata": {},
     "output_type": "execute_result"
    }
   ],
   "source": [
    "temp_df2.max()"
   ]
  },
  {
   "cell_type": "code",
   "execution_count": 11,
   "metadata": {},
   "outputs": [
    {
     "name": "stdout",
     "output_type": "stream",
     "text": [
      "<class 'pandas.core.frame.DataFrame'>\n",
      "RangeIndex: 227845 entries, 0 to 227844\n",
      "Data columns (total 17 columns):\n",
      " #   Column  Non-Null Count   Dtype  \n",
      "---  ------  --------------   -----  \n",
      " 0   Time    227845 non-null  float64\n",
      " 1   V1      227845 non-null  float64\n",
      " 2   V2      227845 non-null  float64\n",
      " 3   V3      227845 non-null  float64\n",
      " 4   V4      227845 non-null  float64\n",
      " 5   V5      227845 non-null  float64\n",
      " 6   V6      227845 non-null  float64\n",
      " 7   V7      227845 non-null  float64\n",
      " 8   V8      227845 non-null  float64\n",
      " 9   V9      227845 non-null  float64\n",
      " 10  V10     227845 non-null  float64\n",
      " 11  V11     227845 non-null  float64\n",
      " 12  V12     227845 non-null  float64\n",
      " 13  V13     227845 non-null  float64\n",
      " 14  V14     227845 non-null  float64\n",
      " 15  Amount  227845 non-null  float64\n",
      " 16  Class   227845 non-null  float64\n",
      "dtypes: float64(17)\n",
      "memory usage: 29.6 MB\n"
     ]
    }
   ],
   "source": [
    "temp_df2.info()"
   ]
  },
  {
   "cell_type": "code",
   "execution_count": 14,
   "metadata": {},
   "outputs": [
    {
     "name": "stdout",
     "output_type": "stream",
     "text": [
      "torch.Size([227845, 17, 8])\n"
     ]
    }
   ],
   "source": [
    "embedding = nn.Embedding(num_embeddings=20001, embedding_dim=8)\n",
    "# df -> torch tensor (LongTensor)\n",
    "input_tensor = torch.LongTensor(temp_df2.values)\n",
    "embedded_output = embedding(input_tensor)  # Shape: [36455, 17, 8]\n",
    "print(embedded_output.shape)"
   ]
  },
  {
   "cell_type": "code",
   "execution_count": null,
   "metadata": {},
   "outputs": [],
   "source": [
    "class MultiheadAttention(nn.Module):\n",
    "    def __init__(self, input_dim, d_model, num_heads):\n",
    "        super().__init__()\n",
    "        assert d_model % num_heads == 0, \"d_model must be divisible by num_heads\"\n",
    "        self.d_model = d_model\n",
    "        self.num_heads = num_heads\n",
    "        self.head_dim = d_model // num_heads\n",
    "\n",
    "        # now three separate linears instead of one combined qkv_layer\n",
    "        self.q_linear = nn.Linear(input_dim, d_model)\n",
    "        self.k_linear = nn.Linear(input_dim, d_model)\n",
    "        self.v_linear = nn.Linear(input_dim, d_model)\n",
    "\n",
    "        self.output_linear = nn.Linear(d_model, d_model)\n",
    "\n",
    "    def forward(self, x, mask=None):\n",
    "        # x: [B, S, input_dim]\n",
    "        B, S, _ = x.size()\n",
    "\n",
    "        # project to queries, keys, values\n",
    "        Q = self.q_linear(x)  # [B, S, d_model]\n",
    "        K = self.k_linear(x)\n",
    "        V = self.v_linear(x)\n",
    "\n",
    "        # reshape + split into heads\n",
    "        # → [B, S, num_heads, head_dim]\n",
    "        Q = Q.view(B, S, self.num_heads, self.head_dim).transpose(1, 2)  # [B, H, S, Dh]\n",
    "        K = K.view(B, S, self.num_heads, self.head_dim).transpose(1, 2)\n",
    "        V = V.view(B, S, self.num_heads, self.head_dim).transpose(1, 2)\n",
    "\n",
    "        # scaled dot-product attention per head\n",
    "        values, attn = scaled_dot_product(Q, K, V, mask)  # both [B, H, S, Dh]\n",
    "\n",
    "        # recombine heads\n",
    "        values = values.transpose(1, 2).contiguous().view(B, S, self.d_model)  # [B, S, d_model]\n",
    "\n",
    "        # final output projection\n",
    "        out = self.output_linear(values)  # [B, S, d_model]\n",
    "        return out, attn"
   ]
  }
 ],
 "metadata": {
  "kernelspec": {
   "display_name": "flower-3.11.12",
   "language": "python",
   "name": "python3"
  },
  "language_info": {
   "codemirror_mode": {
    "name": "ipython",
    "version": 3
   },
   "file_extension": ".py",
   "mimetype": "text/x-python",
   "name": "python",
   "nbconvert_exporter": "python",
   "pygments_lexer": "ipython3",
   "version": "3.11.12"
  }
 },
 "nbformat": 4,
 "nbformat_minor": 2
}
