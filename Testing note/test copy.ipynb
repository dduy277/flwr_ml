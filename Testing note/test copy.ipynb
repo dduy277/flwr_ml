{
 "cells": [
  {
   "cell_type": "code",
   "execution_count": 1,
   "metadata": {},
   "outputs": [
    {
     "name": "stderr",
     "output_type": "stream",
     "text": [
      "/home/zuy/anaconda3/envs/flower_tutorial/lib/python3.11/site-packages/tqdm/auto.py:21: TqdmWarning: IProgress not found. Please update jupyter and ipywidgets. See https://ipywidgets.readthedocs.io/en/stable/user_install.html\n",
      "  from .autonotebook import tqdm as notebook_tqdm\n",
      "2025-03-22 10:20:34,714\tINFO util.py:154 -- Missing packages: ['ipywidgets']. Run `pip install -U ipywidgets`, then restart the notebook server for rich notebook output.\n"
     ]
    }
   ],
   "source": [
    "import numpy as np\n",
    "import pandas as pd\n",
    "from flwr_datasets import FederatedDataset\n",
    "from flwr_datasets.partitioner import IidPartitioner\n",
    "from sklearn.linear_model import LogisticRegression\n",
    "from sklearn.tree import DecisionTreeClassifier\n",
    "from sklearn.model_selection import train_test_split\n",
    "from datasets import Dataset, load_dataset\n",
    "from numpy import genfromtxt\n",
    "from logging import INFO\n",
    "import xgboost as xgb\n",
    "from flwr.common import log\n",
    "from flwr_datasets import FederatedDataset\n",
    "from flwr_datasets.partitioner import IidPartitioner\n",
    "from pandas import concat"
   ]
  },
  {
   "cell_type": "code",
   "execution_count": null,
   "metadata": {},
   "outputs": [],
   "source": [
    "df = pd.read_csv('/home/zuy/Documents/BCU/ML/CSV/df_train_3.csv')\n",
    "    df.drop(\"Unnamed: 0\", axis=1, inplace=True)"
   ]
  },
  {
   "cell_type": "code",
   "execution_count": 5,
   "metadata": {},
   "outputs": [
    {
     "data": {
      "text/plain": [
       "(227845, 18)"
      ]
     },
     "execution_count": 5,
     "metadata": {},
     "output_type": "execute_result"
    }
   ],
   "source": [
    "df.shape"
   ]
  },
  {
   "cell_type": "code",
   "execution_count": 38,
   "metadata": {},
   "outputs": [
    {
     "data": {
      "text/plain": [
       "Class\n",
       "0    284315\n",
       "1       492\n",
       "Name: count, dtype: int64"
      ]
     },
     "execution_count": 38,
     "metadata": {},
     "output_type": "execute_result"
    }
   ],
   "source": [
    "df.Class.value_counts()"
   ]
  },
  {
   "cell_type": "code",
   "execution_count": 7,
   "metadata": {},
   "outputs": [
    {
     "name": "stderr",
     "output_type": "stream",
     "text": [
      "Generating train split: 100%|██████████| 10500000/10500000 [00:28<00:00, 364481.00 examples/s]\n",
      "Generating test split: 100%|██████████| 500000/500000 [00:01<00:00, 440781.97 examples/s]\n",
      "Generating test_20k split: 100%|██████████| 19610/19610 [00:00<00:00, 433496.37 examples/s]\n",
      "Generating train_100k split: 100%|██████████| 100000/100000 [00:00<00:00, 434199.25 examples/s]\n",
      "Generating train_10k split: 100%|██████████| 10000/10000 [00:00<00:00, 410823.64 examples/s]\n",
      "Generating train_1k split: 100%|██████████| 1000/1000 [00:00<00:00, 237866.73 examples/s]\n",
      "Generating train_63k split: 100%|██████████| 62751/62751 [00:00<00:00, 527144.19 examples/s]\n",
      "Generating train_68k split: 100%|██████████| 62751/62751 [00:00<00:00, 417341.40 examples/s]\n",
      "Generating val_16k split: 100%|██████████| 15688/15688 [00:00<00:00, 407005.93 examples/s]\n"
     ]
    }
   ],
   "source": [
    "\"\"\"Load partition HIGGS data.\"\"\"\n",
    "# Only initialize `FederatedDataset` once\n",
    "fds = None  # Cache FederatedDataset\n",
    "if fds is None:\n",
    "    partitioner = IidPartitioner(num_partitions=1)\n",
    "    fds = FederatedDataset(\n",
    "        dataset=\"jxie/higgs\",\n",
    "        partitioners={\"train\": partitioner},\n",
    "    )\n",
    "    partition = fds.load_partition(0, split=\"train\")\n",
    "    partition.set_format(\"numpy\")"
   ]
  },
  {
   "cell_type": "code",
   "execution_count": null,
   "metadata": {},
   "outputs": [],
   "source": [
    "\"\"\"Load partition HIGGS data.\"\"\"\n",
    "# Only initialize `FederatedDataset` once\n",
    "fds = None  # Cache FederatedDataset\n",
    "if fds is None:\n",
    "    partitioner = IidPartitioner(num_partitions=1)\n",
    "    fds = FederatedDataset(\n",
    "        dataset=\"ylecun/mnist\",\n",
    "        partitioners={\"train\": partitioner},\n",
    "    )\n",
    "    \n",
    "# Load the partition for this `partition_id`\n",
    "partition = fds.load_partition(0, split=\"train\").set_format(\"numpy\")\n",
    "# Train/test splitting\n",
    "train_data, valid_data, num_train, num_val = train_test_num_split(partition, test_fraction=0.2, seed=42)"
   ]
  },
  {
   "cell_type": "code",
   "execution_count": null,
   "metadata": {},
   "outputs": [],
   "source": [
    "\"\"\"Load partition df_3 data.\"\"\"\n",
    "df = pd.read_csv('/home/zuy/Documents/BCU/ML/CSV/df_3.csv')\n",
    "df.drop(\"Unnamed: 0\", axis=1, inplace=True)\n",
    "dataset = Dataset.from_pandas(df)\n",
    "partitioner = IidPartitioner(num_partitions=1)\n",
    "partitioner.dataset = dataset\n",
    "dataset = partitioner.load_partition(partition_id=0).to_pandas()\n",
    "\n",
    "X = dataset.drop('Class', axis=1)\n",
    "y = dataset['Class']\n",
    "# new_data = xgb.DMatrix(X, label=y)\n",
    "X_train, X_test, y_train, y_test = train_test_split(X, y, train_size=0.2, random_state=42, stratify=y)\n",
    "partition_train = pd.concat([X_train, X_test])\n",
    "partition_test = pd.concat([y_train, y_test])\n",
    "num_train = len(partition_train)\n",
    "num_test = len(partition_test)\n"
   ]
  },
  {
   "cell_type": "code",
   "execution_count": null,
   "metadata": {},
   "outputs": [],
   "source": []
  }
 ],
 "metadata": {
  "kernelspec": {
   "display_name": "flower_tutorial",
   "language": "python",
   "name": "python3"
  },
  "language_info": {
   "codemirror_mode": {
    "name": "ipython",
    "version": 3
   },
   "file_extension": ".py",
   "mimetype": "text/x-python",
   "name": "python",
   "nbconvert_exporter": "python",
   "pygments_lexer": "ipython3",
   "version": "3.11.11"
  }
 },
 "nbformat": 4,
 "nbformat_minor": 2
}
